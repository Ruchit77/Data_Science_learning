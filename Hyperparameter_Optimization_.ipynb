{
  "nbformat": 4,
  "nbformat_minor": 0,
  "metadata": {
    "colab": {
      "name": "Hyperparameter_Optimization .ipynb",
      "provenance": [],
      "collapsed_sections": [],
      "authorship_tag": "ABX9TyMNIWjpJ5vqhtGrQGDmuLkc",
      "include_colab_link": true
    },
    "kernelspec": {
      "name": "python3",
      "display_name": "Python 3"
    }
  },
  "cells": [
    {
      "cell_type": "markdown",
      "metadata": {
        "id": "view-in-github",
        "colab_type": "text"
      },
      "source": [
        "<a href=\"https://colab.research.google.com/github/Ruchit77/Data_Science_learning/blob/main/Hyperparameter_Optimization_.ipynb\" target=\"_parent\"><img src=\"https://colab.research.google.com/assets/colab-badge.svg\" alt=\"Open In Colab\"/></a>"
      ]
    },
    {
      "cell_type": "markdown",
      "metadata": {
        "id": "FCK-2jCPsVuj"
      },
      "source": [
        "# Hyperparameter Optimization "
      ]
    },
    {
      "cell_type": "markdown",
      "metadata": {
        "id": "43NbJ0tYsc_e"
      },
      "source": [
        "We will be learning about this topic in 3 parts"
      ]
    },
    {
      "cell_type": "markdown",
      "metadata": {
        "id": "7Y-UqGi-slck"
      },
      "source": [
        "## Model run without any tuning"
      ]
    },
    {
      "cell_type": "markdown",
      "metadata": {
        "id": "nzE-GqVLtfZD"
      },
      "source": [
        "We will run the Support Vector Machine model on this Dataset , with repeated Stratified Cross validation."
      ]
    },
    {
      "cell_type": "code",
      "metadata": {
        "id": "t92fCLC0sJx0"
      },
      "source": [
        "# load dataset\n",
        "import pandas as pd\n",
        "import numpy as np\n",
        "\n",
        "\n",
        "df = pd.read_csv('ionosphere.csv', header=None)"
      ],
      "execution_count": null,
      "outputs": []
    },
    {
      "cell_type": "code",
      "metadata": {
        "colab": {
          "base_uri": "https://localhost:8080/"
        },
        "id": "LNViaeeBs_a4",
        "outputId": "605616b6-7155-4138-ef03-679f5b580584"
      },
      "source": [
        "# splitting df into features and target values\n",
        "data = df.values\n",
        "X, y = data[:, :-1], data[:, -1]\n",
        "print(X.shape, y.shape)\n"
      ],
      "execution_count": null,
      "outputs": [
        {
          "output_type": "stream",
          "text": [
            "(351, 34) (351,)\n"
          ],
          "name": "stdout"
        }
      ]
    },
    {
      "cell_type": "code",
      "metadata": {
        "colab": {
          "base_uri": "https://localhost:8080/"
        },
        "id": "GFOl8jCFtZ4b",
        "outputId": "9c252386-edc1-43e5-d5c2-f18514f5b376"
      },
      "source": [
        "from sklearn.model_selection import cross_val_score\n",
        "from sklearn.model_selection import RepeatedStratifiedKFold\n",
        "from sklearn.svm import SVC\n",
        "from numpy import mean\n",
        "from numpy import std\n",
        "\n",
        "# define model\n",
        "model = SVC()\n",
        "\n",
        "# define the cross validation technique\n",
        "cv = RepeatedStratifiedKFold(n_splits=10, n_repeats=3, random_state=1)\n",
        "\n",
        "# model evaluation\n",
        "model_scores = cross_val_score(model, X, y, scoring='accuracy', cv=cv, n_jobs=-1, error_score='raise')\n",
        "print('Accuracy: %.3f (%.3f)' % (mean(model_scores), std(model_scores)))"
      ],
      "execution_count": null,
      "outputs": [
        {
          "output_type": "stream",
          "text": [
            "Accuracy: 0.937 (0.038)\n"
          ],
          "name": "stdout"
        }
      ]
    },
    {
      "cell_type": "markdown",
      "metadata": {
        "id": "nv_dmLfXuqab"
      },
      "source": [
        "Here we have got a pretty good accuracy score close to 94% , but we still would like to see if we can improve that score."
      ]
    },
    {
      "cell_type": "markdown",
      "metadata": {
        "id": "kZ7K0DyOu26f"
      },
      "source": [
        "## Manual tuning of Hyperparameters"
      ]
    },
    {
      "cell_type": "markdown",
      "metadata": {
        "id": "IV-QP6zTvDbF"
      },
      "source": [
        "> Looking at the api of the SVM , we select the parameters that we would like to tune , here we will tune C (regularization parameter ) , type of kernel , degree and gammma values .\n",
        "\n",
        "> Now in order to manually tune the parameters , we need to give a range to the parameters , in order for the system to do trial and error."
      ]
    },
    {
      "cell_type": "code",
      "metadata": {
        "colab": {
          "base_uri": "https://localhost:8080/"
        },
        "id": "IX9oGUpPwMUw",
        "outputId": "3e9390cd-2bda-45aa-dcd4-2cc8a383fae1"
      },
      "source": [
        "pip install scikit-optimize"
      ],
      "execution_count": null,
      "outputs": [
        {
          "output_type": "stream",
          "text": [
            "Requirement already satisfied: scikit-optimize in /usr/local/lib/python3.6/dist-packages (0.8.1)\n",
            "Requirement already satisfied: numpy>=1.13.3 in /usr/local/lib/python3.6/dist-packages (from scikit-optimize) (1.18.5)\n",
            "Requirement already satisfied: joblib>=0.11 in /usr/local/lib/python3.6/dist-packages (from scikit-optimize) (0.17.0)\n",
            "Requirement already satisfied: scikit-learn>=0.20.0 in /usr/local/lib/python3.6/dist-packages (from scikit-optimize) (0.22.2.post1)\n",
            "Requirement already satisfied: pyaml>=16.9 in /usr/local/lib/python3.6/dist-packages (from scikit-optimize) (20.4.0)\n",
            "Requirement already satisfied: scipy>=0.19.1 in /usr/local/lib/python3.6/dist-packages (from scikit-optimize) (1.4.1)\n",
            "Requirement already satisfied: PyYAML in /usr/local/lib/python3.6/dist-packages (from pyaml>=16.9->scikit-optimize) (3.13)\n"
          ],
          "name": "stdout"
        }
      ]
    },
    {
      "cell_type": "code",
      "metadata": {
        "id": "fEOh_q99ucSM"
      },
      "source": [
        "# define the search space of hyperparameters\n",
        "# making a list\n",
        "\n",
        "import skopt.space.space as s\n",
        "search_space = list()\n",
        "search_space.append(s.Real(1e-6, 100.0, 'log-uniform', name='C'))\n",
        "search_space.append(s.Categorical(['linear', 'poly', 'rbf', 'sigmoid'], name='kernel'))\n",
        "search_space.append(s.Integer(1, 5, name='degree'))\n",
        "search_space.append(s.Real(1e-6, 100.0, 'log-uniform', name='gamma'))"
      ],
      "execution_count": null,
      "outputs": []
    },
    {
      "cell_type": "code",
      "metadata": {
        "colab": {
          "base_uri": "https://localhost:8080/"
        },
        "id": "cpvRmuv9wOC3",
        "outputId": "72742699-ca63-4dc5-cba4-aaec474951e8"
      },
      "source": [
        "print(search_space)"
      ],
      "execution_count": null,
      "outputs": [
        {
          "output_type": "stream",
          "text": [
            "[Real(low=1e-06, high=100.0, prior='log-uniform', transform='identity'), Categorical(categories=('linear', 'poly', 'rbf', 'sigmoid'), prior=None), Integer(low=1, high=5, prior='uniform', transform='identity'), Real(low=1e-06, high=100.0, prior='log-uniform', transform='identity')]\n"
          ],
          "name": "stdout"
        }
      ]
    },
    {
      "cell_type": "code",
      "metadata": {
        "id": "YUWWDXqwzNyt"
      },
      "source": [
        "# define the function used to evaluate a given configuration\n",
        "from skopt.utils import use_named_args\n",
        "@use_named_args(search_space)\n",
        "\n",
        "def evaluate_model(**params):\n",
        "\t\n",
        "  # configure the model with specific hyperparameters\n",
        "\tmodel = SVC()\n",
        "\tmodel.set_params(**params)\n",
        "\t\n",
        "  # define test harness\n",
        "\tcv = RepeatedStratifiedKFold(n_splits=10, n_repeats=3, random_state=1)\n",
        "\t\n",
        "  # calculate 5-fold cross validation\n",
        "\tresult = cross_val_score(model, X, y, cv=cv, n_jobs=-1, scoring='accuracy')\n",
        "\t\n",
        "  # calculate the mean of the scores\n",
        "\testimate = mean(result)\n",
        "\t\n",
        "  # convert from a maximizing score to a minimizing score\n",
        "\treturn (1.0 - estimate)"
      ],
      "execution_count": null,
      "outputs": []
    },
    {
      "cell_type": "code",
      "metadata": {
        "colab": {
          "base_uri": "https://localhost:8080/"
        },
        "id": "2mGsiSrLzZhA",
        "outputId": "3a32b579-8512-474a-dbc3-fd322029deb7"
      },
      "source": [
        "\n",
        "# perform optimization\n",
        "result = skopt.gp_minimize(evaluate_model, search_space)"
      ],
      "execution_count": null,
      "outputs": [
        {
          "output_type": "stream",
          "text": [
            "/usr/local/lib/python3.6/dist-packages/skopt/optimizer/optimizer.py:449: UserWarning: The objective has been evaluated at this point before.\n",
            "  warnings.warn(\"The objective has been evaluated \"\n",
            "/usr/local/lib/python3.6/dist-packages/skopt/optimizer/optimizer.py:449: UserWarning: The objective has been evaluated at this point before.\n",
            "  warnings.warn(\"The objective has been evaluated \"\n",
            "/usr/local/lib/python3.6/dist-packages/skopt/optimizer/optimizer.py:449: UserWarning: The objective has been evaluated at this point before.\n",
            "  warnings.warn(\"The objective has been evaluated \"\n"
          ],
          "name": "stderr"
        }
      ]
    },
    {
      "cell_type": "code",
      "metadata": {
        "colab": {
          "base_uri": "https://localhost:8080/"
        },
        "id": "FHROy_uAzlJU",
        "outputId": "3d8dce32-5038-4870-b448-fa6161f6b8a5"
      },
      "source": [
        "print('Best Accuracy: %.3f' % (1.0 - result.fun))\n",
        "print('Best Parameters: %s' % (result.x))"
      ],
      "execution_count": null,
      "outputs": [
        {
          "output_type": "stream",
          "text": [
            "Best Accuracy: 0.950\n",
            "Best Parameters: [26.336031435121907, 'rbf', 3, 0.3269725428431265]\n"
          ],
          "name": "stdout"
        }
      ]
    },
    {
      "cell_type": "markdown",
      "metadata": {
        "id": "U1ySSisJ2G4e"
      },
      "source": [
        "## Automatically tuning the Hyperparameters"
      ]
    },
    {
      "cell_type": "markdown",
      "metadata": {
        "id": "QmaEpVgs2blM"
      },
      "source": [
        "> scikit learn also gives us options to automatically get the above mentioned values of the hyperparameters. The methods include RandomizedSearchCV , GridSearchCV , BayesSearchCV etc. classes."
      ]
    },
    {
      "cell_type": "markdown",
      "metadata": {
        "id": "wYGMxvNZ6qeW"
      },
      "source": [
        "> 1. BayesSearchCV"
      ]
    },
    {
      "cell_type": "code",
      "metadata": {
        "colab": {
          "base_uri": "https://localhost:8080/"
        },
        "id": "WhuaEp9R2MGW",
        "outputId": "995440a0-d4ec-4862-d217-55783d85fe08"
      },
      "source": [
        "# define search space\n",
        "params = dict()\n",
        "params['C'] = (1e-6, 100.0, 'log-uniform')\n",
        "params['gamma'] = (1e-6, 100.0, 'log-uniform')\n",
        "params['degree'] = (1,5)\n",
        "params['kernel'] = ['linear', 'poly', 'rbf', 'sigmoid']\n",
        "\n",
        "\n",
        "# define evaluation\n",
        "cv = RepeatedStratifiedKFold(n_splits=10, n_repeats=3, random_state=1)\n",
        "\n",
        "# define the search\n",
        "search = skopt.BayesSearchCV(estimator=SVC(), search_spaces=params, n_jobs=-1, cv=cv)\n",
        "\n",
        "# perform the search\n",
        "search.fit(X, y)\n",
        "\n",
        "# report the best result\n",
        "print(search.best_score_)\n",
        "print(search.best_params_)"
      ],
      "execution_count": null,
      "outputs": [
        {
          "output_type": "stream",
          "text": [
            "0.9221272554605888\n",
            "OrderedDict([('C', 0.001207682064766801), ('degree', 2), ('gamma', 4.020302939608209), ('kernel', 'poly')])\n"
          ],
          "name": "stdout"
        }
      ]
    },
    {
      "cell_type": "markdown",
      "metadata": {
        "id": "wR1HIDwg6uTi"
      },
      "source": [
        "> 2. GridSearchCV"
      ]
    },
    {
      "cell_type": "code",
      "metadata": {
        "colab": {
          "base_uri": "https://localhost:8080/"
        },
        "id": "SHkK3tiv42Oi",
        "outputId": "8a6ad261-5b9f-472e-b85d-07f73d3521a4"
      },
      "source": [
        "from sklearn.model_selection import GridSearchCV\n",
        "from sklearn import svm, datasets\n",
        "\n",
        "# Defining the search space \n",
        "params = dict()\n",
        "params['C'] = (1e-6, 100.0)\n",
        "params['gamma'] = (1e-6, 100.0)\n",
        "params['degree'] = (1,5)\n",
        "params['kernel'] = ['linear', 'poly', 'rbf', 'sigmoid']\n",
        "\n",
        "svc = svm.SVC()\n",
        "\n",
        "clf = GridSearchCV(estimator=svc, param_grid= params )\n",
        "\n",
        "clf.fit(X, y)"
      ],
      "execution_count": null,
      "outputs": [
        {
          "output_type": "execute_result",
          "data": {
            "text/plain": [
              "GridSearchCV(cv=None, error_score=nan,\n",
              "             estimator=SVC(C=1.0, break_ties=False, cache_size=200,\n",
              "                           class_weight=None, coef0=0.0,\n",
              "                           decision_function_shape='ovr', degree=3,\n",
              "                           gamma='scale', kernel='rbf', max_iter=-1,\n",
              "                           probability=False, random_state=None, shrinking=True,\n",
              "                           tol=0.001, verbose=False),\n",
              "             iid='deprecated', n_jobs=None,\n",
              "             param_grid={'C': (1e-06, 100.0), 'degree': (1, 5),\n",
              "                         'gamma': (1e-06, 100.0),\n",
              "                         'kernel': ['linear', 'poly', 'rbf', 'sigmoid']},\n",
              "             pre_dispatch='2*n_jobs', refit=True, return_train_score=False,\n",
              "             scoring=None, verbose=0)"
            ]
          },
          "metadata": {
            "tags": []
          },
          "execution_count": 91
        }
      ]
    },
    {
      "cell_type": "code",
      "metadata": {
        "colab": {
          "base_uri": "https://localhost:8080/"
        },
        "id": "B54ciGyn52CG",
        "outputId": "12a7726a-debd-45a1-902c-dde7ddf07e85"
      },
      "source": [
        "clf.best_params_"
      ],
      "execution_count": null,
      "outputs": [
        {
          "output_type": "execute_result",
          "data": {
            "text/plain": [
              "{'C': 100.0, 'degree': 1, 'gamma': 1e-06, 'kernel': 'linear'}"
            ]
          },
          "metadata": {
            "tags": []
          },
          "execution_count": 92
        }
      ]
    },
    {
      "cell_type": "code",
      "metadata": {
        "colab": {
          "base_uri": "https://localhost:8080/"
        },
        "id": "bJ0kusMkBjGB",
        "outputId": "cdd6d095-920b-4dcf-a8cc-7df23ad7af1d"
      },
      "source": [
        "clf.best_score_"
      ],
      "execution_count": null,
      "outputs": [
        {
          "output_type": "execute_result",
          "data": {
            "text/plain": [
              "0.8833400402414486"
            ]
          },
          "metadata": {
            "tags": []
          },
          "execution_count": 93
        }
      ]
    },
    {
      "cell_type": "markdown",
      "metadata": {
        "id": "LgEsxShJDqmo"
      },
      "source": [
        "> 3. RandomizedSearchCV"
      ]
    },
    {
      "cell_type": "code",
      "metadata": {
        "colab": {
          "base_uri": "https://localhost:8080/"
        },
        "id": "0uIBDcNZDoTA",
        "outputId": "e9ab4c89-edda-4fc7-8321-439cd1f79344"
      },
      "source": [
        "from sklearn.model_selection import RandomizedSearchCV\n",
        "\n",
        "from sklearn import svm, datasets\n",
        "\n",
        "# Defining the search space \n",
        "params = dict()\n",
        "params['C'] = (1e-6, 100.0)\n",
        "params['gamma'] = (1e-6, 100.0)\n",
        "params['degree'] = (1,5)\n",
        "params['kernel'] = ['linear', 'poly', 'rbf', 'sigmoid']\n",
        "\n",
        "svc = svm.SVC()\n",
        "\n",
        "clf = RandomizedSearchCV(svc, params )\n",
        "\n",
        "clf.fit(X, y)"
      ],
      "execution_count": null,
      "outputs": [
        {
          "output_type": "execute_result",
          "data": {
            "text/plain": [
              "RandomizedSearchCV(cv=None, error_score=nan,\n",
              "                   estimator=SVC(C=1.0, break_ties=False, cache_size=200,\n",
              "                                 class_weight=None, coef0=0.0,\n",
              "                                 decision_function_shape='ovr', degree=3,\n",
              "                                 gamma='scale', kernel='rbf', max_iter=-1,\n",
              "                                 probability=False, random_state=None,\n",
              "                                 shrinking=True, tol=0.001, verbose=False),\n",
              "                   iid='deprecated', n_iter=10, n_jobs=None,\n",
              "                   param_distributions={'C': (1e-06, 100.0), 'degree': (1, 5),\n",
              "                                        'gamma': (1e-06, 100.0),\n",
              "                                        'kernel': ['linear', 'poly', 'rbf',\n",
              "                                                   'sigmoid']},\n",
              "                   pre_dispatch='2*n_jobs', random_state=None, refit=True,\n",
              "                   return_train_score=False, scoring=None, verbose=0)"
            ]
          },
          "metadata": {
            "tags": []
          },
          "execution_count": 94
        }
      ]
    },
    {
      "cell_type": "code",
      "metadata": {
        "colab": {
          "base_uri": "https://localhost:8080/"
        },
        "id": "uqKdgmrWD_Ne",
        "outputId": "f747dfd5-4b1f-44b6-fe54-08708e1aac40"
      },
      "source": [
        "clf.best_params_"
      ],
      "execution_count": null,
      "outputs": [
        {
          "output_type": "execute_result",
          "data": {
            "text/plain": [
              "{'C': 100.0, 'degree': 5, 'gamma': 1e-06, 'kernel': 'linear'}"
            ]
          },
          "metadata": {
            "tags": []
          },
          "execution_count": 95
        }
      ]
    },
    {
      "cell_type": "code",
      "metadata": {
        "colab": {
          "base_uri": "https://localhost:8080/"
        },
        "id": "IHEo-U2LEMDE",
        "outputId": "672ac3cc-724d-47c9-a879-4c6d67245388"
      },
      "source": [
        "clf.best_score_"
      ],
      "execution_count": null,
      "outputs": [
        {
          "output_type": "execute_result",
          "data": {
            "text/plain": [
              "0.8833400402414486"
            ]
          },
          "metadata": {
            "tags": []
          },
          "execution_count": 96
        }
      ]
    },
    {
      "cell_type": "markdown",
      "metadata": {
        "id": "vsY10FsymJlP"
      },
      "source": [
        "> Using the Random Search CV on Random Forest Classifier Model"
      ]
    },
    {
      "cell_type": "code",
      "metadata": {
        "colab": {
          "base_uri": "https://localhost:8080/"
        },
        "id": "hUtI3lnMEO-d",
        "outputId": "75e0d8b2-7fc2-4737-b677-f97a5c55c28a"
      },
      "source": [
        "from sklearn.ensemble import RandomForestClassifier\n",
        "\n",
        "param_space = {\"bootstrap\": [True],\n",
        "        \"max_depth\": [6, 8, 10, 12, 14],\n",
        "        \"max_features\": ['auto', 'sqrt','log2'],\n",
        "        \"min_samples_leaf\": [2, 3, 4],\n",
        "        \"min_samples_split\": [2, 3, 4, 5],\n",
        "        \"n_estimators\": [100, 200, 300, 400, 500, 600, 700, 800, 900, 1000]\n",
        "}\n",
        "\n",
        "forest_clf = RandomForestClassifier()\n",
        "\n",
        "forest_rand_search = RandomizedSearchCV(forest_clf, param_space, n_iter=32,\n",
        "                                        scoring=\"accuracy\", verbose=True, cv=5,\n",
        "                                        n_jobs=-1, random_state=42)\n",
        "\n",
        "forest_rand_search.fit(X, y)"
      ],
      "execution_count": null,
      "outputs": [
        {
          "output_type": "stream",
          "text": [
            "Fitting 5 folds for each of 32 candidates, totalling 160 fits\n"
          ],
          "name": "stdout"
        },
        {
          "output_type": "stream",
          "text": [
            "[Parallel(n_jobs=-1)]: Using backend LokyBackend with 2 concurrent workers.\n",
            "[Parallel(n_jobs=-1)]: Done  46 tasks      | elapsed:   34.6s\n",
            "[Parallel(n_jobs=-1)]: Done 160 out of 160 | elapsed:  2.0min finished\n"
          ],
          "name": "stderr"
        },
        {
          "output_type": "execute_result",
          "data": {
            "text/plain": [
              "RandomizedSearchCV(cv=5, error_score=nan,\n",
              "                   estimator=RandomForestClassifier(bootstrap=True,\n",
              "                                                    ccp_alpha=0.0,\n",
              "                                                    class_weight=None,\n",
              "                                                    criterion='gini',\n",
              "                                                    max_depth=None,\n",
              "                                                    max_features='auto',\n",
              "                                                    max_leaf_nodes=None,\n",
              "                                                    max_samples=None,\n",
              "                                                    min_impurity_decrease=0.0,\n",
              "                                                    min_impurity_split=None,\n",
              "                                                    min_samples_leaf=1,\n",
              "                                                    min_samples_split=2,\n",
              "                                                    min_weight_fraction_leaf=0.0,\n",
              "                                                    n_estimators=100,\n",
              "                                                    n_jobs...\n",
              "                   iid='deprecated', n_iter=32, n_jobs=-1,\n",
              "                   param_distributions={'bootstrap': [True],\n",
              "                                        'max_depth': [6, 8, 10, 12, 14],\n",
              "                                        'max_features': ['auto', 'sqrt',\n",
              "                                                         'log2'],\n",
              "                                        'min_samples_leaf': [2, 3, 4],\n",
              "                                        'min_samples_split': [2, 3, 4, 5],\n",
              "                                        'n_estimators': [100, 200, 300, 400,\n",
              "                                                         500, 600, 700, 800,\n",
              "                                                         900, 1000]},\n",
              "                   pre_dispatch='2*n_jobs', random_state=42, refit=True,\n",
              "                   return_train_score=False, scoring='accuracy', verbose=True)"
            ]
          },
          "metadata": {
            "tags": []
          },
          "execution_count": 99
        }
      ]
    },
    {
      "cell_type": "code",
      "metadata": {
        "colab": {
          "base_uri": "https://localhost:8080/"
        },
        "id": "1EvBpuZSglBk",
        "outputId": "884cfce1-98f8-4e73-fbb2-4f8d49ba29a1"
      },
      "source": [
        "forest_rand_search.best_params_"
      ],
      "execution_count": null,
      "outputs": [
        {
          "output_type": "execute_result",
          "data": {
            "text/plain": [
              "{'bootstrap': True,\n",
              " 'max_depth': 14,\n",
              " 'max_features': 'sqrt',\n",
              " 'min_samples_leaf': 2,\n",
              " 'min_samples_split': 4,\n",
              " 'n_estimators': 300}"
            ]
          },
          "metadata": {
            "tags": []
          },
          "execution_count": 101
        }
      ]
    },
    {
      "cell_type": "code",
      "metadata": {
        "colab": {
          "base_uri": "https://localhost:8080/"
        },
        "id": "hVzOxMxyl4gA",
        "outputId": "16ba7d51-fb80-4c60-cbec-eac329860f76"
      },
      "source": [
        "forest_rand_search.best_score_"
      ],
      "execution_count": null,
      "outputs": [
        {
          "output_type": "execute_result",
          "data": {
            "text/plain": [
              "0.9401609657947686"
            ]
          },
          "metadata": {
            "tags": []
          },
          "execution_count": 102
        }
      ]
    },
    {
      "cell_type": "code",
      "metadata": {
        "id": "Qfz2XBbZmFNa"
      },
      "source": [
        ""
      ],
      "execution_count": null,
      "outputs": []
    }
  ]
}